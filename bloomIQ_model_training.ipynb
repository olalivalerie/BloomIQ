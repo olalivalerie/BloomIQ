{
  "cells": [
    {
      "cell_type": "markdown",
      "metadata": {},
      "source": [
        "# \ud83c\udf3f BloomIQ Machine Learning Model\n",
        "### Baseline Model for Plant State Prediction\n",
        "\n",
        "This notebook trains a simple **Random Forest Classifier** on the synthetic dataset `bloomiq_dataset.csv`.\n",
        "It predicts the `state_label` (healthy, dry, overwatered, heat_stressed) based on sensor readings.\n",
        "\n",
        "---"
      ]
    },
    {
      "cell_type": "code",
      "metadata": {},
      "source": [
        "# \ud83d\udce6 Install dependencies (uncomment if needed)\n",
        "# !pip install pandas scikit-learn matplotlib seaborn joblib\n",
        "\n",
        "import pandas as pd\n",
        "import numpy as np\n",
        "from sklearn.model_selection import train_test_split\n",
        "from sklearn.ensemble import RandomForestClassifier\n",
        "from sklearn.metrics import accuracy_score, classification_report, confusion_matrix\n",
        "import matplotlib.pyplot as plt\n",
        "import seaborn as sns\n",
        "import joblib\n",
        "\n",
        "# Load dataset\n",
        "data = pd.read_csv('bloomiq_dataset.csv')\n",
        "data.head()"
      ]
    },
    {
      "cell_type": "code",
      "metadata": {},
      "source": [
        "# \ud83d\udd0d Basic info\n",
        "print('Shape:', data.shape)\n",
        "print('\\nColumns:', data.columns.tolist())\n",
        "print('\\nClass distribution:\\n', data['state_label'].value_counts())\n",
        "\n",
        "data.describe()"
      ]
    },
    {
      "cell_type": "code",
      "metadata": {},
      "source": [
        "# \ud83c\udfaf Prepare features and target\n",
        "X = data[['soil_moisture_pct','temperature_c','humidity_pct','light_lux','rainfall_mm']]\n",
        "y = data['state_label']\n",
        "\n",
        "# Split dataset\n",
        "X_train, X_test, y_train, y_test = train_test_split(X, y, test_size=0.2, random_state=42, stratify=y)\n",
        "\n",
        "print('Training samples:', len(X_train))\n",
        "print('Test samples:', len(X_test))"
      ]
    },
    {
      "cell_type": "code",
      "metadata": {},
      "source": [
        "# \ud83c\udf33 Train Random Forest model\n",
        "rf = RandomForestClassifier(n_estimators=150, random_state=42)\n",
        "rf.fit(X_train, y_train)\n",
        "\n",
        "# Evaluate\n",
        "preds = rf.predict(X_test)\n",
        "acc = accuracy_score(y_test, preds)\n",
        "print(f'Model Accuracy: {acc*100:.2f}%')\n",
        "\n",
        "print('\\nClassification Report:\\n', classification_report(y_test, preds))"
      ]
    },
    {
      "cell_type": "code",
      "metadata": {},
      "source": [
        "# \ud83d\udcca Confusion matrix visualization\n",
        "cm = confusion_matrix(y_test, preds, labels=rf.classes_)\n",
        "plt.figure(figsize=(6,4))\n",
        "sns.heatmap(cm, annot=True, fmt='d', cmap='Greens', xticklabels=rf.classes_, yticklabels=rf.classes_)\n",
        "plt.xlabel('Predicted')\n",
        "plt.ylabel('Actual')\n",
        "plt.title('Confusion Matrix')\n",
        "plt.show()"
      ]
    },
    {
      "cell_type": "code",
      "metadata": {},
      "source": [
        "# \ud83d\udcbe Save trained model\n",
        "joblib.dump(rf, 'bloomiq_model.pkl')\n",
        "print('Model saved as bloomiq_model.pkl')"
      ]
    },
    {
      "cell_type": "markdown",
      "metadata": {},
      "source": [
        "### \u2705 Next Steps\n",
        "- Collect **real sensor data** to retrain the model for better accuracy.\n",
        "- Integrate the model into your ESP32 or Raspberry\u202fPi pipeline.\n",
        "- Use the predictions to automate pump control and alert logic.\n",
        "\n",
        "---\n",
        "**BloomIQ \u2014 Bringing Greens to Life \ud83c\udf31**"
      ]
    }
  ],
  "metadata": {
    "kernelspec": {
      "display_name": "Python 3",
      "language": "python",
      "name": "python3"
    },
    "language_info": {
      "name": "python",
      "version": "3.10"
    }
  },
  "nbformat": 4,
  "nbformat_minor": 5
}